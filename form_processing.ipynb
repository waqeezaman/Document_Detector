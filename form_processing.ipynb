{
 "cells": [
  {
   "cell_type": "code",
   "execution_count": 1,
   "metadata": {},
   "outputs": [],
   "source": [
    "from document_scanner import extract_document\n",
    "from matplotlib import pyplot as plt\n",
    "# import boxdetect\n",
    "\n",
    "\n",
    "\n",
    "from boxdetect.pipelines import get_checkboxes\n",
    "\n",
    "from boxdetect import config"
   ]
  },
  {
   "cell_type": "code",
   "execution_count": 2,
   "metadata": {},
   "outputs": [],
   "source": [
    "\n",
    "file_name = 'Question_Templates/template1.png'\n",
    "\n",
    "cfg = config.PipelinesConfig()\n",
    "\n",
    "# important to adjust these values to match the size of boxes on your image\n",
    "cfg.width_range = (10,100)\n",
    "cfg.height_range = (10,100)\n",
    "\n",
    "# the more scaling factors the more accurate the results but also it takes more time to processing\n",
    "# too small scaling factor may cause false positives\n",
    "# too big scaling factor will take a lot of processing time\n",
    "cfg.scaling_factors = [1]\n",
    "\n",
    "# w/h ratio range for boxes/rectangles filtering\n",
    "cfg.wh_ratio_range = (0.5, 1.7)\n",
    "\n",
    "# group_size_range starting from 2 will skip all the groups\n",
    "# with a single box detected inside (like checkboxes)\n",
    "# cfg.group_size_range = (2, 100)\n",
    "\n",
    "# num of iterations when running dilation tranformation (to engance the image)\n",
    "cfg.dilation_iterations = 0\n",
    "\n",
    "\n",
    "# limit down the grouping algorithm to just singular boxes (e.g. checkboxes)\n",
    "cfg.group_size_range = (1, 1)\n"
   ]
  },
  {
   "cell_type": "code",
   "execution_count": 3,
   "metadata": {},
   "outputs": [
    {
     "name": "stdout",
     "output_type": "stream",
     "text": [
      "Processing file:  Question_Templates/template1.png\n",
      "----------------------------------\n",
      "nonzero_px_count:  0\n",
      "all_px_count:  1520\n",
      "nonzero_px_count / all_px_count =  0.0\n",
      "----------------------------------\n",
      "----------------------------------\n",
      "nonzero_px_count:  0\n",
      "all_px_count:  1406\n",
      "nonzero_px_count / all_px_count =  0.0\n",
      "----------------------------------\n",
      "----------------------------------\n",
      "nonzero_px_count:  0\n",
      "all_px_count:  1560\n",
      "nonzero_px_count / all_px_count =  0.0\n",
      "----------------------------------\n",
      "----------------------------------\n",
      "nonzero_px_count:  0\n",
      "all_px_count:  1406\n",
      "nonzero_px_count / all_px_count =  0.0\n",
      "----------------------------------\n",
      "----------------------------------\n",
      "nonzero_px_count:  80\n",
      "all_px_count:  150\n",
      "nonzero_px_count / all_px_count =  0.5333333333333333\n",
      "----------------------------------\n",
      "----------------------------------\n",
      "nonzero_px_count:  21\n",
      "all_px_count:  130\n",
      "nonzero_px_count / all_px_count =  0.16153846153846155\n",
      "----------------------------------\n"
     ]
    }
   ],
   "source": [
    "checkboxes = get_checkboxes(\n",
    "    file_name, cfg=cfg, px_threshold=0.1, plot=False, verbose=True)\n"
   ]
  },
  {
   "cell_type": "code",
   "execution_count": 4,
   "metadata": {},
   "outputs": [
    {
     "name": "stdout",
     "output_type": "stream",
     "text": [
      "Output object type:  <class 'numpy.ndarray'>\n",
      "Checkbox bounding rectangle (x,y,width,height):  (54, 81, 54, 56)\n",
      "Result of `contains_pixels` for the checkbox:  False\n",
      "Display the cropout of checkbox:\n"
     ]
    },
    {
     "data": {
      "image/png": "[encoded data removed]",
      "text/plain": [
       "<Figure size 100x100 with 1 Axes>"
      ]
     },
     "metadata": {},
     "output_type": "display_data"
    },
    {
     "name": "stdout",
     "output_type": "stream",
     "text": [
      "Checkbox bounding rectangle (x,y,width,height):  (184, 83, 51, 52)\n",
      "Result of `contains_pixels` for the checkbox:  False\n",
      "Display the cropout of checkbox:\n"
     ]
    },
    {
     "data": {
      "image/png": "[encoded data removed]",
      "text/plain": [
       "<Figure size 100x100 with 1 Axes>"
      ]
     },
     "metadata": {},
     "output_type": "display_data"
    },
    {
     "name": "stdout",
     "output_type": "stream",
     "text": [
      "Checkbox bounding rectangle (x,y,width,height):  (314, 81, 55, 56)\n",
      "Result of `contains_pixels` for the checkbox:  False\n",
      "Display the cropout of checkbox:\n"
     ]
    },
    {
     "data": {
      "image/png": "[encoded data removed]",
      "text/plain": [
       "<Figure size 100x100 with 1 Axes>"
      ]
     },
     "metadata": {},
     "output_type": "display_data"
    },
    {
     "name": "stdout",
     "output_type": "stream",
     "text": [
      "Checkbox bounding rectangle (x,y,width,height):  (459, 83, 51, 52)\n",
      "Result of `contains_pixels` for the checkbox:  False\n",
      "Display the cropout of checkbox:\n"
     ]
    },
    {
     "data": {
      "image/png": "[encoded data removed]",
      "text/plain": [
       "<Figure size 100x100 with 1 Axes>"
      ]
     },
     "metadata": {},
     "output_type": "display_data"
    },
    {
     "name": "stdout",
     "output_type": "stream",
     "text": [
      "Checkbox bounding rectangle (x,y,width,height):  (154, 98, 14, 21)\n",
      "Result of `contains_pixels` for the checkbox:  True\n",
      "Display the cropout of checkbox:\n"
     ]
    },
    {
     "data": {
      "image/png": "[encoded data removed]",
      "text/plain": [
       "<Figure size 100x100 with 1 Axes>"
      ]
     },
     "metadata": {},
     "output_type": "display_data"
    },
    {
     "name": "stdout",
     "output_type": "stream",
     "text": [
      "Checkbox bounding rectangle (x,y,width,height):  (431, 100, 12, 17)\n",
      "Result of `contains_pixels` for the checkbox:  True\n",
      "Display the cropout of checkbox:\n"
     ]
    },
    {
     "data": {
      "image/png": "[encoded data removed]",
      "text/plain": [
       "<Figure size 100x100 with 1 Axes>"
      ]
     },
     "metadata": {},
     "output_type": "display_data"
    }
   ],
   "source": [
    "print(\"Output object type: \", type(checkboxes))\n",
    "for checkbox in checkboxes:\n",
    "    print(\"Checkbox bounding rectangle (x,y,width,height): \", checkbox[0])\n",
    "    print(\"Result of `contains_pixels` for the checkbox: \", checkbox[1])\n",
    "    print(\"Display the cropout of checkbox:\")\n",
    "    plt.figure(figsize=(1,1))\n",
    "    plt.imshow(checkbox[2])\n",
    "    plt.show()\n"
   ]
  }
 ],
 "metadata": {
  "kernelspec": {
   "display_name": "Python 3",
   "language": "python",
   "name": "python3"
  },
  "language_info": {
   "codemirror_mode": {
    "name": "ipython",
    "version": 3
   },
   "file_extension": ".py",
   "mimetype": "text/x-python",
   "name": "python",
   "nbconvert_exporter": "python",
   "pygments_lexer": "ipython3",
   "version": "3.10.12"
  }
 },
 "nbformat": 4,
 "nbformat_minor": 2
}
